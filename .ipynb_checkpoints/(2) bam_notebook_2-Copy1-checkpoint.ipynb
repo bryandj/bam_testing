{
 "cells": [
  {
   "cell_type": "markdown",
   "metadata": {},
   "source": [
    "## (2) Modeling"
   ]
  },
  {
   "cell_type": "code",
   "execution_count": 1,
   "metadata": {},
   "outputs": [],
   "source": [
    "import pandas as pd\n",
    "import numpy as np\n",
    "import matplotlib.pyplot as plt\n",
    "import scipy.stats as scs\n",
    "import seaborn as sns\n",
    "import plotly.express as px\n",
    "import statsmodels.api as sm\n",
    "import statsmodels.formula.api as smf\n",
    "import random\n",
    "from sklearn.svm import SVC\n",
    "from sklearn.preprocessing import StandardScaler, normalize\n",
    "from sklearn.model_selection import train_test_split\n",
    "from sklearn.pipeline import Pipeline\n",
    "from sklearn import tree\n",
    "from sklearn.datasets import load_digits\n",
    "from sklearn.feature_selection import SelectKBest, chi2\n",
    "from sklearn.ensemble import RandomForestRegressor\n",
    "from sklearn.datasets import make_regression\n",
    "from sklearn.metrics import r2_score\n",
    "from sklearn.ensemble import RandomForestRegressor\n",
    "from sklearn.neural_network import MLPRegressor\n",
    "from sklearn.feature_selection import SelectKBest, mutual_info_regression"
   ]
  },
  {
   "cell_type": "code",
   "execution_count": 2,
   "metadata": {},
   "outputs": [
    {
     "data": {
      "text/html": [
       "<div>\n",
       "<style scoped>\n",
       "    .dataframe tbody tr th:only-of-type {\n",
       "        vertical-align: middle;\n",
       "    }\n",
       "\n",
       "    .dataframe tbody tr th {\n",
       "        vertical-align: top;\n",
       "    }\n",
       "\n",
       "    .dataframe thead th {\n",
       "        text-align: right;\n",
       "    }\n",
       "</style>\n",
       "<table border=\"1\" class=\"dataframe\">\n",
       "  <thead>\n",
       "    <tr style=\"text-align: right;\">\n",
       "      <th></th>\n",
       "      <th>approach_vertical</th>\n",
       "      <th>vertical_jump</th>\n",
       "      <th>three_quarter_court_sprint</th>\n",
       "      <th>four_way_agility</th>\n",
       "      <th>reaction_shuttle</th>\n",
       "      <th>bamscore</th>\n",
       "      <th>wingspan</th>\n",
       "      <th>reach</th>\n",
       "      <th>height</th>\n",
       "      <th>weight</th>\n",
       "      <th>body_comp</th>\n",
       "      <th>hand_length</th>\n",
       "      <th>hand_width</th>\n",
       "    </tr>\n",
       "  </thead>\n",
       "  <tbody>\n",
       "    <tr>\n",
       "      <th>0</th>\n",
       "      <td>33.5</td>\n",
       "      <td>28.5</td>\n",
       "      <td>3.376</td>\n",
       "      <td>11.471</td>\n",
       "      <td>3.669</td>\n",
       "      <td>2003.0</td>\n",
       "      <td>72.75</td>\n",
       "      <td>94.0</td>\n",
       "      <td>70.0</td>\n",
       "      <td>174.4</td>\n",
       "      <td>9.8</td>\n",
       "      <td>7.50</td>\n",
       "      <td>8.25</td>\n",
       "    </tr>\n",
       "    <tr>\n",
       "      <th>1</th>\n",
       "      <td>30.5</td>\n",
       "      <td>21.5</td>\n",
       "      <td>3.486</td>\n",
       "      <td>12.114</td>\n",
       "      <td>3.355</td>\n",
       "      <td>1865.0</td>\n",
       "      <td>82.00</td>\n",
       "      <td>104.5</td>\n",
       "      <td>79.5</td>\n",
       "      <td>188.4</td>\n",
       "      <td>21.9</td>\n",
       "      <td>7.50</td>\n",
       "      <td>8.75</td>\n",
       "    </tr>\n",
       "    <tr>\n",
       "      <th>2</th>\n",
       "      <td>37.0</td>\n",
       "      <td>31.0</td>\n",
       "      <td>3.230</td>\n",
       "      <td>12.036</td>\n",
       "      <td>3.562</td>\n",
       "      <td>2005.0</td>\n",
       "      <td>81.50</td>\n",
       "      <td>99.0</td>\n",
       "      <td>74.0</td>\n",
       "      <td>196.5</td>\n",
       "      <td>13.9</td>\n",
       "      <td>9.00</td>\n",
       "      <td>9.50</td>\n",
       "    </tr>\n",
       "    <tr>\n",
       "      <th>3</th>\n",
       "      <td>29.0</td>\n",
       "      <td>23.0</td>\n",
       "      <td>3.370</td>\n",
       "      <td>12.509</td>\n",
       "      <td>3.173</td>\n",
       "      <td>1902.0</td>\n",
       "      <td>79.50</td>\n",
       "      <td>101.0</td>\n",
       "      <td>77.5</td>\n",
       "      <td>205.0</td>\n",
       "      <td>10.6</td>\n",
       "      <td>8.25</td>\n",
       "      <td>9.25</td>\n",
       "    </tr>\n",
       "    <tr>\n",
       "      <th>4</th>\n",
       "      <td>31.0</td>\n",
       "      <td>26.0</td>\n",
       "      <td>3.389</td>\n",
       "      <td>12.724</td>\n",
       "      <td>3.316</td>\n",
       "      <td>1903.0</td>\n",
       "      <td>77.00</td>\n",
       "      <td>101.5</td>\n",
       "      <td>78.0</td>\n",
       "      <td>180.0</td>\n",
       "      <td>15.4</td>\n",
       "      <td>8.00</td>\n",
       "      <td>10.00</td>\n",
       "    </tr>\n",
       "  </tbody>\n",
       "</table>\n",
       "</div>"
      ],
      "text/plain": [
       "   approach_vertical  vertical_jump  three_quarter_court_sprint  \\\n",
       "0               33.5           28.5                       3.376   \n",
       "1               30.5           21.5                       3.486   \n",
       "2               37.0           31.0                       3.230   \n",
       "3               29.0           23.0                       3.370   \n",
       "4               31.0           26.0                       3.389   \n",
       "\n",
       "   four_way_agility  reaction_shuttle  bamscore  wingspan  reach  height  \\\n",
       "0            11.471             3.669    2003.0     72.75   94.0    70.0   \n",
       "1            12.114             3.355    1865.0     82.00  104.5    79.5   \n",
       "2            12.036             3.562    2005.0     81.50   99.0    74.0   \n",
       "3            12.509             3.173    1902.0     79.50  101.0    77.5   \n",
       "4            12.724             3.316    1903.0     77.00  101.5    78.0   \n",
       "\n",
       "   weight  body_comp  hand_length  hand_width  \n",
       "0   174.4        9.8         7.50        8.25  \n",
       "1   188.4       21.9         7.50        8.75  \n",
       "2   196.5       13.9         9.00        9.50  \n",
       "3   205.0       10.6         8.25        9.25  \n",
       "4   180.0       15.4         8.00       10.00  "
      ]
     },
     "execution_count": 2,
     "metadata": {},
     "output_type": "execute_result"
    }
   ],
   "source": [
    "df = pd.read_csv('bam_data.csv')\n",
    "df.head()"
   ]
  },
  {
   "cell_type": "code",
   "execution_count": 3,
   "metadata": {},
   "outputs": [
    {
     "data": {
      "text/html": [
       "<div>\n",
       "<style scoped>\n",
       "    .dataframe tbody tr th:only-of-type {\n",
       "        vertical-align: middle;\n",
       "    }\n",
       "\n",
       "    .dataframe tbody tr th {\n",
       "        vertical-align: top;\n",
       "    }\n",
       "\n",
       "    .dataframe thead th {\n",
       "        text-align: right;\n",
       "    }\n",
       "</style>\n",
       "<table border=\"1\" class=\"dataframe\">\n",
       "  <thead>\n",
       "    <tr style=\"text-align: right;\">\n",
       "      <th></th>\n",
       "      <th>approach_vertical</th>\n",
       "      <th>vertical_jump</th>\n",
       "      <th>three_quarter_court_sprint</th>\n",
       "      <th>four_way_agility</th>\n",
       "      <th>reaction_shuttle</th>\n",
       "      <th>bamscore</th>\n",
       "      <th>wingspan</th>\n",
       "      <th>reach</th>\n",
       "      <th>height</th>\n",
       "      <th>weight</th>\n",
       "      <th>body_comp</th>\n",
       "      <th>hand_length</th>\n",
       "      <th>hand_width</th>\n",
       "    </tr>\n",
       "  </thead>\n",
       "  <tbody>\n",
       "    <tr>\n",
       "      <th>count</th>\n",
       "      <td>1059.000000</td>\n",
       "      <td>1059.000000</td>\n",
       "      <td>1059.000000</td>\n",
       "      <td>1059.000000</td>\n",
       "      <td>1059.000000</td>\n",
       "      <td>1059.000000</td>\n",
       "      <td>1059.000000</td>\n",
       "      <td>1059.000000</td>\n",
       "      <td>1059.000000</td>\n",
       "      <td>1059.000000</td>\n",
       "      <td>1059.000000</td>\n",
       "      <td>1059.000000</td>\n",
       "      <td>1059.000000</td>\n",
       "    </tr>\n",
       "    <tr>\n",
       "      <th>mean</th>\n",
       "      <td>31.889632</td>\n",
       "      <td>25.864994</td>\n",
       "      <td>3.431342</td>\n",
       "      <td>12.222711</td>\n",
       "      <td>3.480930</td>\n",
       "      <td>1897.717099</td>\n",
       "      <td>77.984937</td>\n",
       "      <td>98.934366</td>\n",
       "      <td>75.044316</td>\n",
       "      <td>179.738631</td>\n",
       "      <td>14.939638</td>\n",
       "      <td>8.053227</td>\n",
       "      <td>8.864758</td>\n",
       "    </tr>\n",
       "    <tr>\n",
       "      <th>std</th>\n",
       "      <td>3.027257</td>\n",
       "      <td>2.806422</td>\n",
       "      <td>0.143779</td>\n",
       "      <td>0.601871</td>\n",
       "      <td>0.208796</td>\n",
       "      <td>121.674822</td>\n",
       "      <td>3.580336</td>\n",
       "      <td>4.467551</td>\n",
       "      <td>3.270778</td>\n",
       "      <td>21.209485</td>\n",
       "      <td>5.912901</td>\n",
       "      <td>0.502420</td>\n",
       "      <td>0.578171</td>\n",
       "    </tr>\n",
       "    <tr>\n",
       "      <th>min</th>\n",
       "      <td>24.000000</td>\n",
       "      <td>18.000000</td>\n",
       "      <td>3.053000</td>\n",
       "      <td>10.598000</td>\n",
       "      <td>2.957000</td>\n",
       "      <td>1558.000000</td>\n",
       "      <td>68.000000</td>\n",
       "      <td>87.000000</td>\n",
       "      <td>66.000000</td>\n",
       "      <td>122.000000</td>\n",
       "      <td>4.000000</td>\n",
       "      <td>6.750000</td>\n",
       "      <td>7.500000</td>\n",
       "    </tr>\n",
       "    <tr>\n",
       "      <th>25%</th>\n",
       "      <td>30.000000</td>\n",
       "      <td>24.000000</td>\n",
       "      <td>3.344000</td>\n",
       "      <td>11.813000</td>\n",
       "      <td>3.348500</td>\n",
       "      <td>1819.000000</td>\n",
       "      <td>75.750000</td>\n",
       "      <td>96.000000</td>\n",
       "      <td>73.000000</td>\n",
       "      <td>166.000000</td>\n",
       "      <td>10.400000</td>\n",
       "      <td>7.750000</td>\n",
       "      <td>8.500000</td>\n",
       "    </tr>\n",
       "    <tr>\n",
       "      <th>50%</th>\n",
       "      <td>31.829615</td>\n",
       "      <td>25.860157</td>\n",
       "      <td>3.424000</td>\n",
       "      <td>12.247000</td>\n",
       "      <td>3.493000</td>\n",
       "      <td>1899.000000</td>\n",
       "      <td>78.089797</td>\n",
       "      <td>98.714180</td>\n",
       "      <td>75.000000</td>\n",
       "      <td>180.300000</td>\n",
       "      <td>14.979496</td>\n",
       "      <td>8.000000</td>\n",
       "      <td>8.876189</td>\n",
       "    </tr>\n",
       "    <tr>\n",
       "      <th>75%</th>\n",
       "      <td>34.000000</td>\n",
       "      <td>27.500000</td>\n",
       "      <td>3.511500</td>\n",
       "      <td>12.634000</td>\n",
       "      <td>3.602000</td>\n",
       "      <td>1981.000000</td>\n",
       "      <td>80.500000</td>\n",
       "      <td>102.000000</td>\n",
       "      <td>77.125000</td>\n",
       "      <td>192.150000</td>\n",
       "      <td>18.900000</td>\n",
       "      <td>8.500000</td>\n",
       "      <td>9.250000</td>\n",
       "    </tr>\n",
       "    <tr>\n",
       "      <th>max</th>\n",
       "      <td>40.000000</td>\n",
       "      <td>34.000000</td>\n",
       "      <td>3.831000</td>\n",
       "      <td>13.904000</td>\n",
       "      <td>4.051000</td>\n",
       "      <td>2220.000000</td>\n",
       "      <td>88.000000</td>\n",
       "      <td>111.000000</td>\n",
       "      <td>83.500000</td>\n",
       "      <td>239.200000</td>\n",
       "      <td>31.300000</td>\n",
       "      <td>9.500000</td>\n",
       "      <td>10.250000</td>\n",
       "    </tr>\n",
       "  </tbody>\n",
       "</table>\n",
       "</div>"
      ],
      "text/plain": [
       "       approach_vertical  vertical_jump  three_quarter_court_sprint  \\\n",
       "count        1059.000000    1059.000000                 1059.000000   \n",
       "mean           31.889632      25.864994                    3.431342   \n",
       "std             3.027257       2.806422                    0.143779   \n",
       "min            24.000000      18.000000                    3.053000   \n",
       "25%            30.000000      24.000000                    3.344000   \n",
       "50%            31.829615      25.860157                    3.424000   \n",
       "75%            34.000000      27.500000                    3.511500   \n",
       "max            40.000000      34.000000                    3.831000   \n",
       "\n",
       "       four_way_agility  reaction_shuttle     bamscore     wingspan  \\\n",
       "count       1059.000000       1059.000000  1059.000000  1059.000000   \n",
       "mean          12.222711          3.480930  1897.717099    77.984937   \n",
       "std            0.601871          0.208796   121.674822     3.580336   \n",
       "min           10.598000          2.957000  1558.000000    68.000000   \n",
       "25%           11.813000          3.348500  1819.000000    75.750000   \n",
       "50%           12.247000          3.493000  1899.000000    78.089797   \n",
       "75%           12.634000          3.602000  1981.000000    80.500000   \n",
       "max           13.904000          4.051000  2220.000000    88.000000   \n",
       "\n",
       "             reach       height       weight    body_comp  hand_length  \\\n",
       "count  1059.000000  1059.000000  1059.000000  1059.000000  1059.000000   \n",
       "mean     98.934366    75.044316   179.738631    14.939638     8.053227   \n",
       "std       4.467551     3.270778    21.209485     5.912901     0.502420   \n",
       "min      87.000000    66.000000   122.000000     4.000000     6.750000   \n",
       "25%      96.000000    73.000000   166.000000    10.400000     7.750000   \n",
       "50%      98.714180    75.000000   180.300000    14.979496     8.000000   \n",
       "75%     102.000000    77.125000   192.150000    18.900000     8.500000   \n",
       "max     111.000000    83.500000   239.200000    31.300000     9.500000   \n",
       "\n",
       "        hand_width  \n",
       "count  1059.000000  \n",
       "mean      8.864758  \n",
       "std       0.578171  \n",
       "min       7.500000  \n",
       "25%       8.500000  \n",
       "50%       8.876189  \n",
       "75%       9.250000  \n",
       "max      10.250000  "
      ]
     },
     "execution_count": 3,
     "metadata": {},
     "output_type": "execute_result"
    }
   ],
   "source": [
    "df.describe()"
   ]
  },
  {
   "cell_type": "markdown",
   "metadata": {},
   "source": [
    "#### 1) Split Train/Test Data\n",
    "#### 2) - normalize/standardize data with outliers [0,1] - also use min max scalers\n",
    "#### 3) - feature importance\n",
    "#### 4) - random forrest\n",
    "#### 5) - iterate model\n",
    "#### 6) - Find best model"
   ]
  },
  {
   "cell_type": "markdown",
   "metadata": {},
   "source": [
    "## 1) Split train/test data"
   ]
  },
  {
   "cell_type": "code",
   "execution_count": 4,
   "metadata": {},
   "outputs": [],
   "source": [
    "y = df['bamscore']\n",
    "X = df.drop('bamscore',axis=1) #drop bamscorerank too once I added so no data leakage\n",
    "# y is bamscore, x is everything else\n",
    "# now xtrain/split will take those two variables and create two datasets from it\n",
    "\n",
    "X_train, X_test, y_train, y_test = train_test_split(X, y, test_size=0.3,\n",
    "                                                 random_state=0, stratify = None)"
   ]
  },
  {
   "cell_type": "code",
   "execution_count": 5,
   "metadata": {},
   "outputs": [
    {
     "data": {
      "text/plain": [
       "[0      2003.0\n",
       " 1      1865.0\n",
       " 2      2005.0\n",
       " 3      1902.0\n",
       " 4      1903.0\n",
       "         ...  \n",
       " 789    1916.0\n",
       " 790    1852.0\n",
       " 791    1593.0\n",
       " 792    1814.0\n",
       " 793    2114.0\n",
       " Name: bamscore, Length: 794, dtype: float64, 794     1843.000000\n",
       " 795     1968.000000\n",
       " 796     1965.000000\n",
       " 797     1950.000000\n",
       " 798     1902.000000\n",
       "            ...     \n",
       " 1054    1917.000000\n",
       " 1055    2029.000000\n",
       " 1056    1890.976326\n",
       " 1057    1890.976326\n",
       " 1058    1890.976326\n",
       " Name: bamscore, Length: 265, dtype: float64]"
      ]
     },
     "execution_count": 5,
     "metadata": {},
     "output_type": "execute_result"
    }
   ],
   "source": [
    "train_test_split(y, shuffle=False)"
   ]
  },
  {
   "cell_type": "markdown",
   "metadata": {},
   "source": [
    "## 2) Normalize + Scale Data to adjust for outliers\n",
    "#### - going to use min/max normalization to make all points between 0-1\n",
    "#### - will help us understand our data better especially with big data - to avoid data leakage\n",
    "#### - meaning, make data all within 0-1 range. 5.5 on 0-10 scale would be .55 on normalized scale\n",
    "### Why are we normalizing data?\n",
    "#### to make data cleaner, sometimes gets messed up on backend and removes unstructured data"
   ]
  },
  {
   "cell_type": "code",
   "execution_count": 6,
   "metadata": {},
   "outputs": [],
   "source": [
    "X_train_ids_reg = X_train.copy()\n",
    "X_test_ids_reg = X_test.copy()\n",
    "y_train_ids_reg = y_train.copy()\n",
    "y_test_ids_reg = y_test.copy()"
   ]
  },
  {
   "cell_type": "code",
   "execution_count": 7,
   "metadata": {},
   "outputs": [],
   "source": [
    "y_train=(y_train-y_train.min())/(y_train.max()-y_train.min())\n",
    "y_test=(y_test-y_test.min())/(y_test.max()-y_test.min())\n",
    "# we had to calculate the y train and y test manually because the function would not accept pandas series"
   ]
  },
  {
   "cell_type": "code",
   "execution_count": 8,
   "metadata": {},
   "outputs": [],
   "source": [
    "normalize(X_train, copy = False)\n",
    "normalize(X_test, copy = False)\n",
    "df_train = pd.DataFrame(data = np.concatenate((X_train.values, y_train.values.reshape(-1,1)),axis = 1)\n",
    "                        , columns = list(X_train.columns) + [\"bamscore\"])"
   ]
  },
  {
   "cell_type": "code",
   "execution_count": 9,
   "metadata": {},
   "outputs": [
    {
     "data": {
      "text/html": [
       "<div>\n",
       "<style scoped>\n",
       "    .dataframe tbody tr th:only-of-type {\n",
       "        vertical-align: middle;\n",
       "    }\n",
       "\n",
       "    .dataframe tbody tr th {\n",
       "        vertical-align: top;\n",
       "    }\n",
       "\n",
       "    .dataframe thead th {\n",
       "        text-align: right;\n",
       "    }\n",
       "</style>\n",
       "<table border=\"1\" class=\"dataframe\">\n",
       "  <thead>\n",
       "    <tr style=\"text-align: right;\">\n",
       "      <th></th>\n",
       "      <th>approach_vertical</th>\n",
       "      <th>vertical_jump</th>\n",
       "      <th>three_quarter_court_sprint</th>\n",
       "      <th>four_way_agility</th>\n",
       "      <th>reaction_shuttle</th>\n",
       "      <th>wingspan</th>\n",
       "      <th>reach</th>\n",
       "      <th>height</th>\n",
       "      <th>weight</th>\n",
       "      <th>body_comp</th>\n",
       "      <th>hand_length</th>\n",
       "      <th>hand_width</th>\n",
       "      <th>bamscore</th>\n",
       "    </tr>\n",
       "  </thead>\n",
       "  <tbody>\n",
       "    <tr>\n",
       "      <th>0</th>\n",
       "      <td>0.127644</td>\n",
       "      <td>0.110904</td>\n",
       "      <td>0.015016</td>\n",
       "      <td>0.049245</td>\n",
       "      <td>0.015585</td>\n",
       "      <td>0.321202</td>\n",
       "      <td>0.401765</td>\n",
       "      <td>0.311786</td>\n",
       "      <td>0.771723</td>\n",
       "      <td>0.092071</td>\n",
       "      <td>0.035573</td>\n",
       "      <td>0.037665</td>\n",
       "      <td>0.564955</td>\n",
       "    </tr>\n",
       "    <tr>\n",
       "      <th>1</th>\n",
       "      <td>0.139731</td>\n",
       "      <td>0.113526</td>\n",
       "      <td>0.015712</td>\n",
       "      <td>0.052135</td>\n",
       "      <td>0.014799</td>\n",
       "      <td>0.338029</td>\n",
       "      <td>0.447778</td>\n",
       "      <td>0.340224</td>\n",
       "      <td>0.726981</td>\n",
       "      <td>0.053119</td>\n",
       "      <td>0.032925</td>\n",
       "      <td>0.038412</td>\n",
       "      <td>0.391239</td>\n",
       "    </tr>\n",
       "    <tr>\n",
       "      <th>2</th>\n",
       "      <td>0.173806</td>\n",
       "      <td>0.130354</td>\n",
       "      <td>0.016736</td>\n",
       "      <td>0.060029</td>\n",
       "      <td>0.016363</td>\n",
       "      <td>0.370615</td>\n",
       "      <td>0.470297</td>\n",
       "      <td>0.355279</td>\n",
       "      <td>0.675797</td>\n",
       "      <td>0.064410</td>\n",
       "      <td>0.038339</td>\n",
       "      <td>0.039617</td>\n",
       "      <td>0.702417</td>\n",
       "    </tr>\n",
       "    <tr>\n",
       "      <th>3</th>\n",
       "      <td>0.108274</td>\n",
       "      <td>0.098607</td>\n",
       "      <td>0.013093</td>\n",
       "      <td>0.046635</td>\n",
       "      <td>0.012846</td>\n",
       "      <td>0.311287</td>\n",
       "      <td>0.407960</td>\n",
       "      <td>0.313221</td>\n",
       "      <td>0.781892</td>\n",
       "      <td>0.032869</td>\n",
       "      <td>0.030935</td>\n",
       "      <td>0.034802</td>\n",
       "      <td>0.543807</td>\n",
       "    </tr>\n",
       "    <tr>\n",
       "      <th>4</th>\n",
       "      <td>0.159682</td>\n",
       "      <td>0.126732</td>\n",
       "      <td>0.018128</td>\n",
       "      <td>0.065885</td>\n",
       "      <td>0.017337</td>\n",
       "      <td>0.372591</td>\n",
       "      <td>0.468907</td>\n",
       "      <td>0.357383</td>\n",
       "      <td>0.679282</td>\n",
       "      <td>0.043596</td>\n",
       "      <td>0.040554</td>\n",
       "      <td>0.045623</td>\n",
       "      <td>0.406344</td>\n",
       "    </tr>\n",
       "    <tr>\n",
       "      <th>...</th>\n",
       "      <td>...</td>\n",
       "      <td>...</td>\n",
       "      <td>...</td>\n",
       "      <td>...</td>\n",
       "      <td>...</td>\n",
       "      <td>...</td>\n",
       "      <td>...</td>\n",
       "      <td>...</td>\n",
       "      <td>...</td>\n",
       "      <td>...</td>\n",
       "      <td>...</td>\n",
       "      <td>...</td>\n",
       "      <td>...</td>\n",
       "    </tr>\n",
       "    <tr>\n",
       "      <th>736</th>\n",
       "      <td>0.149692</td>\n",
       "      <td>0.128307</td>\n",
       "      <td>0.015715</td>\n",
       "      <td>0.054516</td>\n",
       "      <td>0.016851</td>\n",
       "      <td>0.332649</td>\n",
       "      <td>0.413435</td>\n",
       "      <td>0.318392</td>\n",
       "      <td>0.751786</td>\n",
       "      <td>0.081736</td>\n",
       "      <td>0.035641</td>\n",
       "      <td>0.039205</td>\n",
       "      <td>0.616314</td>\n",
       "    </tr>\n",
       "    <tr>\n",
       "      <th>737</th>\n",
       "      <td>0.181446</td>\n",
       "      <td>0.144698</td>\n",
       "      <td>0.015926</td>\n",
       "      <td>0.056106</td>\n",
       "      <td>0.015287</td>\n",
       "      <td>0.328441</td>\n",
       "      <td>0.422609</td>\n",
       "      <td>0.321551</td>\n",
       "      <td>0.739107</td>\n",
       "      <td>0.059717</td>\n",
       "      <td>0.035600</td>\n",
       "      <td>0.039045</td>\n",
       "      <td>0.850453</td>\n",
       "    </tr>\n",
       "    <tr>\n",
       "      <th>738</th>\n",
       "      <td>0.127032</td>\n",
       "      <td>0.098270</td>\n",
       "      <td>0.016855</td>\n",
       "      <td>0.060357</td>\n",
       "      <td>0.015843</td>\n",
       "      <td>0.342747</td>\n",
       "      <td>0.441017</td>\n",
       "      <td>0.333159</td>\n",
       "      <td>0.733430</td>\n",
       "      <td>0.074302</td>\n",
       "      <td>0.041945</td>\n",
       "      <td>0.043143</td>\n",
       "      <td>0.351964</td>\n",
       "    </tr>\n",
       "    <tr>\n",
       "      <th>739</th>\n",
       "      <td>0.143284</td>\n",
       "      <td>0.115483</td>\n",
       "      <td>0.013507</td>\n",
       "      <td>0.050077</td>\n",
       "      <td>0.013610</td>\n",
       "      <td>0.322924</td>\n",
       "      <td>0.414883</td>\n",
       "      <td>0.316509</td>\n",
       "      <td>0.761332</td>\n",
       "      <td>0.063729</td>\n",
       "      <td>0.035286</td>\n",
       "      <td>0.041702</td>\n",
       "      <td>0.756798</td>\n",
       "    </tr>\n",
       "    <tr>\n",
       "      <th>740</th>\n",
       "      <td>0.156546</td>\n",
       "      <td>0.115666</td>\n",
       "      <td>0.015418</td>\n",
       "      <td>0.051942</td>\n",
       "      <td>0.015319</td>\n",
       "      <td>0.346638</td>\n",
       "      <td>0.436093</td>\n",
       "      <td>0.329865</td>\n",
       "      <td>0.729058</td>\n",
       "      <td>0.073353</td>\n",
       "      <td>0.038018</td>\n",
       "      <td>0.038018</td>\n",
       "      <td>0.740181</td>\n",
       "    </tr>\n",
       "  </tbody>\n",
       "</table>\n",
       "<p>741 rows × 13 columns</p>\n",
       "</div>"
      ],
      "text/plain": [
       "     approach_vertical  vertical_jump  three_quarter_court_sprint  \\\n",
       "0             0.127644       0.110904                    0.015016   \n",
       "1             0.139731       0.113526                    0.015712   \n",
       "2             0.173806       0.130354                    0.016736   \n",
       "3             0.108274       0.098607                    0.013093   \n",
       "4             0.159682       0.126732                    0.018128   \n",
       "..                 ...            ...                         ...   \n",
       "736           0.149692       0.128307                    0.015715   \n",
       "737           0.181446       0.144698                    0.015926   \n",
       "738           0.127032       0.098270                    0.016855   \n",
       "739           0.143284       0.115483                    0.013507   \n",
       "740           0.156546       0.115666                    0.015418   \n",
       "\n",
       "     four_way_agility  reaction_shuttle  wingspan     reach    height  \\\n",
       "0            0.049245          0.015585  0.321202  0.401765  0.311786   \n",
       "1            0.052135          0.014799  0.338029  0.447778  0.340224   \n",
       "2            0.060029          0.016363  0.370615  0.470297  0.355279   \n",
       "3            0.046635          0.012846  0.311287  0.407960  0.313221   \n",
       "4            0.065885          0.017337  0.372591  0.468907  0.357383   \n",
       "..                ...               ...       ...       ...       ...   \n",
       "736          0.054516          0.016851  0.332649  0.413435  0.318392   \n",
       "737          0.056106          0.015287  0.328441  0.422609  0.321551   \n",
       "738          0.060357          0.015843  0.342747  0.441017  0.333159   \n",
       "739          0.050077          0.013610  0.322924  0.414883  0.316509   \n",
       "740          0.051942          0.015319  0.346638  0.436093  0.329865   \n",
       "\n",
       "       weight  body_comp  hand_length  hand_width  bamscore  \n",
       "0    0.771723   0.092071     0.035573    0.037665  0.564955  \n",
       "1    0.726981   0.053119     0.032925    0.038412  0.391239  \n",
       "2    0.675797   0.064410     0.038339    0.039617  0.702417  \n",
       "3    0.781892   0.032869     0.030935    0.034802  0.543807  \n",
       "4    0.679282   0.043596     0.040554    0.045623  0.406344  \n",
       "..        ...        ...          ...         ...       ...  \n",
       "736  0.751786   0.081736     0.035641    0.039205  0.616314  \n",
       "737  0.739107   0.059717     0.035600    0.039045  0.850453  \n",
       "738  0.733430   0.074302     0.041945    0.043143  0.351964  \n",
       "739  0.761332   0.063729     0.035286    0.041702  0.756798  \n",
       "740  0.729058   0.073353     0.038018    0.038018  0.740181  \n",
       "\n",
       "[741 rows x 13 columns]"
      ]
     },
     "execution_count": 9,
     "metadata": {},
     "output_type": "execute_result"
    }
   ],
   "source": [
    "df_train\n",
    "# df_train is same as x_train dataset with bamscores included as y\n",
    "# statsmodels issue so we had to include bamscore (full data set)"
   ]
  },
  {
   "cell_type": "code",
   "execution_count": 10,
   "metadata": {},
   "outputs": [],
   "source": [
    "# https://scikit-learn.org/stable/auto_examples/preprocessing/plot_all_scaling.html#sphx-glr-auto-examples-preprocessing-plot-all-scaling-py"
   ]
  },
  {
   "cell_type": "markdown",
   "metadata": {},
   "source": [
    "### 3) Feature Importance + Feature Selection\n",
    "##### Want to get rough idea of what features are most important in pred bamscore\n",
    "### SelectKBest"
   ]
  },
  {
   "cell_type": "code",
   "execution_count": 11,
   "metadata": {},
   "outputs": [
    {
     "data": {
      "text/html": [
       "<div>\n",
       "<style scoped>\n",
       "    .dataframe tbody tr th:only-of-type {\n",
       "        vertical-align: middle;\n",
       "    }\n",
       "\n",
       "    .dataframe tbody tr th {\n",
       "        vertical-align: top;\n",
       "    }\n",
       "\n",
       "    .dataframe thead th {\n",
       "        text-align: right;\n",
       "    }\n",
       "</style>\n",
       "<table border=\"1\" class=\"dataframe\">\n",
       "  <thead>\n",
       "    <tr style=\"text-align: right;\">\n",
       "      <th></th>\n",
       "      <th>approach_vertical</th>\n",
       "      <th>vertical_jump</th>\n",
       "      <th>three_quarter_court_sprint</th>\n",
       "      <th>four_way_agility</th>\n",
       "      <th>reaction_shuttle</th>\n",
       "      <th>wingspan</th>\n",
       "      <th>reach</th>\n",
       "      <th>height</th>\n",
       "      <th>weight</th>\n",
       "      <th>body_comp</th>\n",
       "      <th>hand_length</th>\n",
       "      <th>hand_width</th>\n",
       "    </tr>\n",
       "  </thead>\n",
       "  <tbody>\n",
       "    <tr>\n",
       "      <th>899</th>\n",
       "      <td>0.127644</td>\n",
       "      <td>0.110904</td>\n",
       "      <td>0.015016</td>\n",
       "      <td>0.049245</td>\n",
       "      <td>0.015585</td>\n",
       "      <td>0.321202</td>\n",
       "      <td>0.401765</td>\n",
       "      <td>0.311786</td>\n",
       "      <td>0.771723</td>\n",
       "      <td>0.092071</td>\n",
       "      <td>0.035573</td>\n",
       "      <td>0.037665</td>\n",
       "    </tr>\n",
       "    <tr>\n",
       "      <th>635</th>\n",
       "      <td>0.139731</td>\n",
       "      <td>0.113526</td>\n",
       "      <td>0.015712</td>\n",
       "      <td>0.052135</td>\n",
       "      <td>0.014799</td>\n",
       "      <td>0.338029</td>\n",
       "      <td>0.447778</td>\n",
       "      <td>0.340224</td>\n",
       "      <td>0.726981</td>\n",
       "      <td>0.053119</td>\n",
       "      <td>0.032925</td>\n",
       "      <td>0.038412</td>\n",
       "    </tr>\n",
       "    <tr>\n",
       "      <th>310</th>\n",
       "      <td>0.173806</td>\n",
       "      <td>0.130354</td>\n",
       "      <td>0.016736</td>\n",
       "      <td>0.060029</td>\n",
       "      <td>0.016363</td>\n",
       "      <td>0.370615</td>\n",
       "      <td>0.470297</td>\n",
       "      <td>0.355279</td>\n",
       "      <td>0.675797</td>\n",
       "      <td>0.064410</td>\n",
       "      <td>0.038339</td>\n",
       "      <td>0.039617</td>\n",
       "    </tr>\n",
       "    <tr>\n",
       "      <th>961</th>\n",
       "      <td>0.108274</td>\n",
       "      <td>0.098607</td>\n",
       "      <td>0.013093</td>\n",
       "      <td>0.046635</td>\n",
       "      <td>0.012846</td>\n",
       "      <td>0.311287</td>\n",
       "      <td>0.407960</td>\n",
       "      <td>0.313221</td>\n",
       "      <td>0.781892</td>\n",
       "      <td>0.032869</td>\n",
       "      <td>0.030935</td>\n",
       "      <td>0.034802</td>\n",
       "    </tr>\n",
       "    <tr>\n",
       "      <th>723</th>\n",
       "      <td>0.159682</td>\n",
       "      <td>0.126732</td>\n",
       "      <td>0.018128</td>\n",
       "      <td>0.065885</td>\n",
       "      <td>0.017337</td>\n",
       "      <td>0.372591</td>\n",
       "      <td>0.468907</td>\n",
       "      <td>0.357383</td>\n",
       "      <td>0.679282</td>\n",
       "      <td>0.043596</td>\n",
       "      <td>0.040554</td>\n",
       "      <td>0.045623</td>\n",
       "    </tr>\n",
       "    <tr>\n",
       "      <th>...</th>\n",
       "      <td>...</td>\n",
       "      <td>...</td>\n",
       "      <td>...</td>\n",
       "      <td>...</td>\n",
       "      <td>...</td>\n",
       "      <td>...</td>\n",
       "      <td>...</td>\n",
       "      <td>...</td>\n",
       "      <td>...</td>\n",
       "      <td>...</td>\n",
       "      <td>...</td>\n",
       "      <td>...</td>\n",
       "    </tr>\n",
       "    <tr>\n",
       "      <th>1033</th>\n",
       "      <td>0.149692</td>\n",
       "      <td>0.128307</td>\n",
       "      <td>0.015715</td>\n",
       "      <td>0.054516</td>\n",
       "      <td>0.016851</td>\n",
       "      <td>0.332649</td>\n",
       "      <td>0.413435</td>\n",
       "      <td>0.318392</td>\n",
       "      <td>0.751786</td>\n",
       "      <td>0.081736</td>\n",
       "      <td>0.035641</td>\n",
       "      <td>0.039205</td>\n",
       "    </tr>\n",
       "    <tr>\n",
       "      <th>763</th>\n",
       "      <td>0.181446</td>\n",
       "      <td>0.144698</td>\n",
       "      <td>0.015926</td>\n",
       "      <td>0.056106</td>\n",
       "      <td>0.015287</td>\n",
       "      <td>0.328441</td>\n",
       "      <td>0.422609</td>\n",
       "      <td>0.321551</td>\n",
       "      <td>0.739107</td>\n",
       "      <td>0.059717</td>\n",
       "      <td>0.035600</td>\n",
       "      <td>0.039045</td>\n",
       "    </tr>\n",
       "    <tr>\n",
       "      <th>835</th>\n",
       "      <td>0.127032</td>\n",
       "      <td>0.098270</td>\n",
       "      <td>0.016855</td>\n",
       "      <td>0.060357</td>\n",
       "      <td>0.015843</td>\n",
       "      <td>0.342747</td>\n",
       "      <td>0.441017</td>\n",
       "      <td>0.333159</td>\n",
       "      <td>0.733430</td>\n",
       "      <td>0.074302</td>\n",
       "      <td>0.041945</td>\n",
       "      <td>0.043143</td>\n",
       "    </tr>\n",
       "    <tr>\n",
       "      <th>559</th>\n",
       "      <td>0.143284</td>\n",
       "      <td>0.115483</td>\n",
       "      <td>0.013507</td>\n",
       "      <td>0.050077</td>\n",
       "      <td>0.013610</td>\n",
       "      <td>0.322924</td>\n",
       "      <td>0.414883</td>\n",
       "      <td>0.316509</td>\n",
       "      <td>0.761332</td>\n",
       "      <td>0.063729</td>\n",
       "      <td>0.035286</td>\n",
       "      <td>0.041702</td>\n",
       "    </tr>\n",
       "    <tr>\n",
       "      <th>684</th>\n",
       "      <td>0.156546</td>\n",
       "      <td>0.115666</td>\n",
       "      <td>0.015418</td>\n",
       "      <td>0.051942</td>\n",
       "      <td>0.015319</td>\n",
       "      <td>0.346638</td>\n",
       "      <td>0.436093</td>\n",
       "      <td>0.329865</td>\n",
       "      <td>0.729058</td>\n",
       "      <td>0.073353</td>\n",
       "      <td>0.038018</td>\n",
       "      <td>0.038018</td>\n",
       "    </tr>\n",
       "  </tbody>\n",
       "</table>\n",
       "<p>741 rows × 12 columns</p>\n",
       "</div>"
      ],
      "text/plain": [
       "      approach_vertical  vertical_jump  three_quarter_court_sprint  \\\n",
       "899            0.127644       0.110904                    0.015016   \n",
       "635            0.139731       0.113526                    0.015712   \n",
       "310            0.173806       0.130354                    0.016736   \n",
       "961            0.108274       0.098607                    0.013093   \n",
       "723            0.159682       0.126732                    0.018128   \n",
       "...                 ...            ...                         ...   \n",
       "1033           0.149692       0.128307                    0.015715   \n",
       "763            0.181446       0.144698                    0.015926   \n",
       "835            0.127032       0.098270                    0.016855   \n",
       "559            0.143284       0.115483                    0.013507   \n",
       "684            0.156546       0.115666                    0.015418   \n",
       "\n",
       "      four_way_agility  reaction_shuttle  wingspan     reach    height  \\\n",
       "899           0.049245          0.015585  0.321202  0.401765  0.311786   \n",
       "635           0.052135          0.014799  0.338029  0.447778  0.340224   \n",
       "310           0.060029          0.016363  0.370615  0.470297  0.355279   \n",
       "961           0.046635          0.012846  0.311287  0.407960  0.313221   \n",
       "723           0.065885          0.017337  0.372591  0.468907  0.357383   \n",
       "...                ...               ...       ...       ...       ...   \n",
       "1033          0.054516          0.016851  0.332649  0.413435  0.318392   \n",
       "763           0.056106          0.015287  0.328441  0.422609  0.321551   \n",
       "835           0.060357          0.015843  0.342747  0.441017  0.333159   \n",
       "559           0.050077          0.013610  0.322924  0.414883  0.316509   \n",
       "684           0.051942          0.015319  0.346638  0.436093  0.329865   \n",
       "\n",
       "        weight  body_comp  hand_length  hand_width  \n",
       "899   0.771723   0.092071     0.035573    0.037665  \n",
       "635   0.726981   0.053119     0.032925    0.038412  \n",
       "310   0.675797   0.064410     0.038339    0.039617  \n",
       "961   0.781892   0.032869     0.030935    0.034802  \n",
       "723   0.679282   0.043596     0.040554    0.045623  \n",
       "...        ...        ...          ...         ...  \n",
       "1033  0.751786   0.081736     0.035641    0.039205  \n",
       "763   0.739107   0.059717     0.035600    0.039045  \n",
       "835   0.733430   0.074302     0.041945    0.043143  \n",
       "559   0.761332   0.063729     0.035286    0.041702  \n",
       "684   0.729058   0.073353     0.038018    0.038018  \n",
       "\n",
       "[741 rows x 12 columns]"
      ]
     },
     "execution_count": 11,
     "metadata": {},
     "output_type": "execute_result"
    }
   ],
   "source": [
    "X_train"
   ]
  },
  {
   "cell_type": "code",
   "execution_count": 12,
   "metadata": {},
   "outputs": [],
   "source": [
    "# want to fit and transform the model on training x and y data"
   ]
  },
  {
   "cell_type": "markdown",
   "metadata": {},
   "source": [
    "## Picking 7 best features\n",
    "#### Picking 7 out of 12 best factors and going from there. Trying to focus on factors that are actually trainable"
   ]
  },
  {
   "cell_type": "code",
   "execution_count": 13,
   "metadata": {},
   "outputs": [],
   "source": [
    "#skb = SelectKBest(f_regression, k=8)\n",
    "skb = SelectKBest(score_func=mutual_info_regression, k=7)\n",
    "fit = skb.fit(X_train, y_train)\n",
    "features = fit.transform(X_train)\n",
    "\n",
    "# Two of the variables don't matter that much but need to keep in data. k=10 took them out\n",
    "# mutual_info_regression is used instead of f_reg because we have Mutual information for a continuous target.\n",
    "# f_regression is for continuous to categorical, we want continuous to continuous"
   ]
  },
  {
   "cell_type": "markdown",
   "metadata": {},
   "source": [
    "#### This is the data for the 7 most important features\n",
    "#### Save them as new data frame to model called skb_7"
   ]
  },
  {
   "cell_type": "code",
   "execution_count": 14,
   "metadata": {},
   "outputs": [
    {
     "data": {
      "text/html": [
       "<div>\n",
       "<style scoped>\n",
       "    .dataframe tbody tr th:only-of-type {\n",
       "        vertical-align: middle;\n",
       "    }\n",
       "\n",
       "    .dataframe tbody tr th {\n",
       "        vertical-align: top;\n",
       "    }\n",
       "\n",
       "    .dataframe thead th {\n",
       "        text-align: right;\n",
       "    }\n",
       "</style>\n",
       "<table border=\"1\" class=\"dataframe\">\n",
       "  <thead>\n",
       "    <tr style=\"text-align: right;\">\n",
       "      <th></th>\n",
       "      <th>approach_vertical</th>\n",
       "      <th>vertical_jump</th>\n",
       "      <th>three_quarter_court_sprint</th>\n",
       "      <th>four_way_agility</th>\n",
       "      <th>reaction_shuttle</th>\n",
       "      <th>hand_length</th>\n",
       "      <th>hand_width</th>\n",
       "    </tr>\n",
       "  </thead>\n",
       "  <tbody>\n",
       "    <tr>\n",
       "      <th>899</th>\n",
       "      <td>0.127644</td>\n",
       "      <td>0.110904</td>\n",
       "      <td>0.015016</td>\n",
       "      <td>0.049245</td>\n",
       "      <td>0.015585</td>\n",
       "      <td>0.035573</td>\n",
       "      <td>0.037665</td>\n",
       "    </tr>\n",
       "    <tr>\n",
       "      <th>635</th>\n",
       "      <td>0.139731</td>\n",
       "      <td>0.113526</td>\n",
       "      <td>0.015712</td>\n",
       "      <td>0.052135</td>\n",
       "      <td>0.014799</td>\n",
       "      <td>0.032925</td>\n",
       "      <td>0.038412</td>\n",
       "    </tr>\n",
       "    <tr>\n",
       "      <th>310</th>\n",
       "      <td>0.173806</td>\n",
       "      <td>0.130354</td>\n",
       "      <td>0.016736</td>\n",
       "      <td>0.060029</td>\n",
       "      <td>0.016363</td>\n",
       "      <td>0.038339</td>\n",
       "      <td>0.039617</td>\n",
       "    </tr>\n",
       "    <tr>\n",
       "      <th>961</th>\n",
       "      <td>0.108274</td>\n",
       "      <td>0.098607</td>\n",
       "      <td>0.013093</td>\n",
       "      <td>0.046635</td>\n",
       "      <td>0.012846</td>\n",
       "      <td>0.030935</td>\n",
       "      <td>0.034802</td>\n",
       "    </tr>\n",
       "    <tr>\n",
       "      <th>723</th>\n",
       "      <td>0.159682</td>\n",
       "      <td>0.126732</td>\n",
       "      <td>0.018128</td>\n",
       "      <td>0.065885</td>\n",
       "      <td>0.017337</td>\n",
       "      <td>0.040554</td>\n",
       "      <td>0.045623</td>\n",
       "    </tr>\n",
       "    <tr>\n",
       "      <th>...</th>\n",
       "      <td>...</td>\n",
       "      <td>...</td>\n",
       "      <td>...</td>\n",
       "      <td>...</td>\n",
       "      <td>...</td>\n",
       "      <td>...</td>\n",
       "      <td>...</td>\n",
       "    </tr>\n",
       "    <tr>\n",
       "      <th>1033</th>\n",
       "      <td>0.149692</td>\n",
       "      <td>0.128307</td>\n",
       "      <td>0.015715</td>\n",
       "      <td>0.054516</td>\n",
       "      <td>0.016851</td>\n",
       "      <td>0.035641</td>\n",
       "      <td>0.039205</td>\n",
       "    </tr>\n",
       "    <tr>\n",
       "      <th>763</th>\n",
       "      <td>0.181446</td>\n",
       "      <td>0.144698</td>\n",
       "      <td>0.015926</td>\n",
       "      <td>0.056106</td>\n",
       "      <td>0.015287</td>\n",
       "      <td>0.035600</td>\n",
       "      <td>0.039045</td>\n",
       "    </tr>\n",
       "    <tr>\n",
       "      <th>835</th>\n",
       "      <td>0.127032</td>\n",
       "      <td>0.098270</td>\n",
       "      <td>0.016855</td>\n",
       "      <td>0.060357</td>\n",
       "      <td>0.015843</td>\n",
       "      <td>0.041945</td>\n",
       "      <td>0.043143</td>\n",
       "    </tr>\n",
       "    <tr>\n",
       "      <th>559</th>\n",
       "      <td>0.143284</td>\n",
       "      <td>0.115483</td>\n",
       "      <td>0.013507</td>\n",
       "      <td>0.050077</td>\n",
       "      <td>0.013610</td>\n",
       "      <td>0.035286</td>\n",
       "      <td>0.041702</td>\n",
       "    </tr>\n",
       "    <tr>\n",
       "      <th>684</th>\n",
       "      <td>0.156546</td>\n",
       "      <td>0.115666</td>\n",
       "      <td>0.015418</td>\n",
       "      <td>0.051942</td>\n",
       "      <td>0.015319</td>\n",
       "      <td>0.038018</td>\n",
       "      <td>0.038018</td>\n",
       "    </tr>\n",
       "  </tbody>\n",
       "</table>\n",
       "<p>741 rows × 7 columns</p>\n",
       "</div>"
      ],
      "text/plain": [
       "      approach_vertical  vertical_jump  three_quarter_court_sprint  \\\n",
       "899            0.127644       0.110904                    0.015016   \n",
       "635            0.139731       0.113526                    0.015712   \n",
       "310            0.173806       0.130354                    0.016736   \n",
       "961            0.108274       0.098607                    0.013093   \n",
       "723            0.159682       0.126732                    0.018128   \n",
       "...                 ...            ...                         ...   \n",
       "1033           0.149692       0.128307                    0.015715   \n",
       "763            0.181446       0.144698                    0.015926   \n",
       "835            0.127032       0.098270                    0.016855   \n",
       "559            0.143284       0.115483                    0.013507   \n",
       "684            0.156546       0.115666                    0.015418   \n",
       "\n",
       "      four_way_agility  reaction_shuttle  hand_length  hand_width  \n",
       "899           0.049245          0.015585     0.035573    0.037665  \n",
       "635           0.052135          0.014799     0.032925    0.038412  \n",
       "310           0.060029          0.016363     0.038339    0.039617  \n",
       "961           0.046635          0.012846     0.030935    0.034802  \n",
       "723           0.065885          0.017337     0.040554    0.045623  \n",
       "...                ...               ...          ...         ...  \n",
       "1033          0.054516          0.016851     0.035641    0.039205  \n",
       "763           0.056106          0.015287     0.035600    0.039045  \n",
       "835           0.060357          0.015843     0.041945    0.043143  \n",
       "559           0.050077          0.013610     0.035286    0.041702  \n",
       "684           0.051942          0.015319     0.038018    0.038018  \n",
       "\n",
       "[741 rows x 7 columns]"
      ]
     },
     "execution_count": 14,
     "metadata": {},
     "output_type": "execute_result"
    }
   ],
   "source": [
    "mask = fit.get_support()\n",
    "# get_support - get mask or integers index of selected features\n",
    "# true bools = yes part of 7/12 best\n",
    "# false bool = no , not part of 7 best\n",
    "skb_7 = X_train[X_train.columns[mask]]\n",
    "skb_7"
   ]
  },
  {
   "cell_type": "markdown",
   "metadata": {},
   "source": [
    "## So far, Our 7 best features are:\n",
    "#### - approach vertical\n",
    "#### - vertical jump\n",
    "#### - 3/4 court sprint\n",
    "#### - four way agility\n",
    "#### - reaction shuttle\n",
    "#### - hand length\n",
    "#### - hand width"
   ]
  },
  {
   "cell_type": "markdown",
   "metadata": {},
   "source": [
    "#### Now that we have a good sense of 7 important features, lets put this to the side and try an OLS Regression\n",
    "#### I modeled all 12 factors to have a starting point and what the model is saying"
   ]
  },
  {
   "cell_type": "markdown",
   "metadata": {},
   "source": [
    "## 4) OLS Regression (Ordinary Least Squares)"
   ]
  },
  {
   "cell_type": "markdown",
   "metadata": {},
   "source": [
    "#### Use this because it's the most simple baseline model and creates a best fit line that has minimized distance between points and in best fit line\n",
    "#### Model gives best approximate of true population regression line.\n",
    "#### The principle of OLS is to minimize the square of errors"
   ]
  },
  {
   "cell_type": "code",
   "execution_count": 15,
   "metadata": {},
   "outputs": [],
   "source": [
    "# Look at all columns and see what coeff is saying\n",
    "## larger coef means it stronger contribution for that feature to bamscore"
   ]
  },
  {
   "cell_type": "markdown",
   "metadata": {},
   "source": [
    "#### r2 tells us that 63.7% of the variance in bamscore is explained in the variance of those 12 factors"
   ]
  },
  {
   "cell_type": "markdown",
   "metadata": {},
   "source": [
    "## 12 Factors\n",
    "##### Ran for all 12 and focused on picking 5 with large coefficients to find trainable characteristics"
   ]
  },
  {
   "cell_type": "code",
   "execution_count": 16,
   "metadata": {
    "scrolled": false
   },
   "outputs": [
    {
     "name": "stdout",
     "output_type": "stream",
     "text": [
      "                            OLS Regression Results                            \n",
      "==============================================================================\n",
      "Dep. Variable:               bamscore   R-squared:                       0.637\n",
      "Model:                            OLS   Adj. R-squared:                  0.631\n",
      "Method:                 Least Squares   F-statistic:                     106.4\n",
      "Date:                Wed, 27 Apr 2022   Prob (F-statistic):          4.44e-151\n",
      "Time:                        13:24:47   Log-Likelihood:                 563.70\n",
      "No. Observations:                 741   AIC:                            -1101.\n",
      "Df Residuals:                     728   BIC:                            -1041.\n",
      "Df Model:                          12                                         \n",
      "Covariance Type:            nonrobust                                         \n",
      "==============================================================================================\n",
      "                                 coef    std err          t      P>|t|      [0.025      0.975]\n",
      "----------------------------------------------------------------------------------------------\n",
      "Intercept                     -6.6399      2.548     -2.606      0.009     -11.642      -1.638\n",
      "approach_vertical              6.2192      0.580     10.729      0.000       5.081       7.357\n",
      "vertical_jump                  4.8804      0.598      8.155      0.000       3.705       6.055\n",
      "three_quarter_court_sprint     5.3725      6.835      0.786      0.432      -8.046      18.791\n",
      "four_way_agility             -17.1495      1.846     -9.290      0.000     -20.774     -13.525\n",
      "reaction_shuttle             -51.6624      5.078    -10.173      0.000     -61.632     -41.693\n",
      "wingspan                       1.6944      1.106      1.532      0.126      -0.477       3.865\n",
      "reach                          3.7804      1.371      2.758      0.006       1.089       6.471\n",
      "height                         3.6030      1.101      3.272      0.001       1.442       5.765\n",
      "weight                         5.1150      1.934      2.645      0.008       1.318       8.912\n",
      "body_comp                      0.9108      0.257      3.544      0.000       0.406       1.415\n",
      "hand_length                   -1.3277      3.046     -0.436      0.663      -7.307       4.652\n",
      "hand_width                     4.9526      2.362      2.097      0.036       0.316       9.589\n",
      "==============================================================================\n",
      "Omnibus:                       43.443   Durbin-Watson:                   1.993\n",
      "Prob(Omnibus):                  0.000   Jarque-Bera (JB):              158.504\n",
      "Skew:                           0.044   Prob(JB):                     3.81e-35\n",
      "Kurtosis:                       5.264   Cond. No.                     2.41e+03\n",
      "==============================================================================\n",
      "\n",
      "Warnings:\n",
      "[1] Standard Errors assume that the covariance matrix of the errors is correctly specified.\n",
      "[2] The condition number is large, 2.41e+03. This might indicate that there are\n",
      "strong multicollinearity or other numerical problems.\n",
      "After selecting best 12 features: (741, 7)\n"
     ]
    }
   ],
   "source": [
    "formula = \"bamscore ~ approach_vertical + vertical_jump + three_quarter_court_sprint + four_way_agility + reaction_shuttle + wingspan + reach + height + weight + body_comp + hand_length + hand_width\"\n",
    "lm = smf.ols(formula = formula, data = df_train).fit()\n",
    "print(lm.summary())\n",
    "print(\"After selecting best 12 features:\", features.shape)\n",
    "\n",
    "# Ran for all 12 and focused on picking on large coefficients to find trainable characteristics\n",
    "# Chose my 5 features because - 1) coeff are large and 2) trainable characteristics\n",
    "# What does it tell us?\n",
    "# r2 - Most of the variance (64%) in bamscore can be predicted through the factors given\n",
    "# coeff - largest coeff means it infact effects it\n",
    "# std err - afte rmodel fit, how much error is left? Essentially measure of how good each category fit the line\n",
    "# Lower standard error is best (normally)\n",
    "# For example, Reaction shuttle has a high standard error but high coeff which tells us it's a good indication.\n",
    "# not much variance\n",
    "# t stat tells us \"how different the means are\"\n",
    "# p value tells us - can't fit data well enough to for sure say 3/4 court sprint, wingspan, and hand length can be good predictors"
   ]
  },
  {
   "cell_type": "code",
   "execution_count": 17,
   "metadata": {},
   "outputs": [],
   "source": [
    "# Reaction shuttle and four way agility are very important because magnitude is a lot bigger than coef for others\n",
    "# If Condition Number is too high I'll run into problems in matrix because program may not catch small errors"
   ]
  },
  {
   "cell_type": "code",
   "execution_count": 18,
   "metadata": {},
   "outputs": [],
   "source": [
    "#### Quick notes + Table Results Definitions\n",
    "\n",
    "### df = samplesize - # of variables +1 --> number of independent observations\n",
    "### constant is intercept in regression line and tells us avg value of ommited variables and noise in model\n",
    "### coeff term = slope aka rise over run, if x increases by 1 , and coeff is .7, y increased by .7\n",
    "### standard error = std\n",
    "### Standard error shows the sampling variability of these parameters.o^2 is equal to residual sum squares\n",
    "#### remember *o2 in first param and its the numerator in second param\n",
    "\n",
    "### H0  : B2  = 0       ( variable X has no influence on Y) \n",
    "### Ha  : B2  ≠ 0      (X has significant impact on Y)\n",
    "### b1  ∼ N(B1, σb12) B1 is true mean of b1\n",
    "### - b1 is param\n",
    "### b2   ∼ N(B2 , σb22) B2 is true mean of b2\n",
    "### - b2 is param\n",
    "\n",
    "### p value - reject null <0.05 or fail to reject if >0.05. if 0 t is probably high\n",
    "\n",
    "### R2 is the coefficient of determination that tells us that\n",
    "### how much percentage variation independent variable can be explained by independent variable.\n",
    "\n",
    "# F stat - prob f stat > f stat given = 0 means reject null\n",
    "\n",
    "### https://www.geeksforgeeks.org/interpreting-the-results-of-linear-regression-using-ols-summary/"
   ]
  },
  {
   "cell_type": "markdown",
   "metadata": {},
   "source": [
    "### Iteration:\n",
    "### - Going to choose what I think are the 5 most important features based on watching tests in real life\n",
    "### - Also picking the 5 features I think are most important from pairplot in EDA\n",
    "\n",
    "## Picking 5 Factors\n",
    "#### 2 of our 7 important factors are not trainable = hand_width and hand_length\n",
    "#### Let's take them out\n",
    "#### From our original 7, we picked these 5 because they had bigger coeff and are actually trainable"
   ]
  },
  {
   "cell_type": "code",
   "execution_count": 19,
   "metadata": {},
   "outputs": [
    {
     "name": "stdout",
     "output_type": "stream",
     "text": [
      "                            OLS Regression Results                            \n",
      "==============================================================================\n",
      "Dep. Variable:               bamscore   R-squared:                       0.611\n",
      "Model:                            OLS   Adj. R-squared:                  0.608\n",
      "Method:                 Least Squares   F-statistic:                     230.8\n",
      "Date:                Wed, 27 Apr 2022   Prob (F-statistic):          5.49e-148\n",
      "Time:                        13:24:47   Log-Likelihood:                 538.18\n",
      "No. Observations:                 741   AIC:                            -1064.\n",
      "Df Residuals:                     735   BIC:                            -1037.\n",
      "Df Model:                           5                                         \n",
      "Covariance Type:            nonrobust                                         \n",
      "==============================================================================================\n",
      "                                 coef    std err          t      P>|t|      [0.025      0.975]\n",
      "----------------------------------------------------------------------------------------------\n",
      "Intercept                      0.5175      0.054      9.585      0.000       0.411       0.623\n",
      "approach_vertical              5.3676      0.484     11.090      0.000       4.417       6.318\n",
      "vertical_jump                  4.6855      0.532      8.801      0.000       3.640       5.731\n",
      "four_way_agility             -15.1359      1.778     -8.513      0.000     -18.627     -11.645\n",
      "reaction_shuttle             -50.3648      5.054     -9.964      0.000     -60.288     -40.442\n",
      "three_quarter_court_sprint    19.5406      6.144      3.181      0.002       7.479      31.602\n",
      "==============================================================================\n",
      "Omnibus:                       37.151   Durbin-Watson:                   1.977\n",
      "Prob(Omnibus):                  0.000   Jarque-Bera (JB):              118.152\n",
      "Skew:                           0.055   Prob(JB):                     2.21e-26\n",
      "Kurtosis:                       4.953   Cond. No.                     1.55e+03\n",
      "==============================================================================\n",
      "\n",
      "Warnings:\n",
      "[1] Standard Errors assume that the covariance matrix of the errors is correctly specified.\n",
      "[2] The condition number is large, 1.55e+03. This might indicate that there are\n",
      "strong multicollinearity or other numerical problems.\n"
     ]
    }
   ],
   "source": [
    "formula = \"bamscore ~ approach_vertical + vertical_jump + four_way_agility + reaction_shuttle + three_quarter_court_sprint\"\n",
    "lm = smf.ols(formula = formula, data = df_train).fit()\n",
    "print(lm.summary())\n",
    "#https://www.datatechnotes.com/2021/02/seleckbest-feature-selection-example-in-python.html\n",
    "# Now that we have eliminated a few factors, the contribution from 3/4 court sprint is now statistically sig"
   ]
  },
  {
   "cell_type": "markdown",
   "metadata": {},
   "source": [
    "#### Using just those 5, 61.1% of variance in bamscore is explained from those 5 factors\n",
    "#### Very close to value when we used all 12\n",
    "\n",
    "# 5) GLSAR\n",
    "#### GLSAR is \"experimental\", may not make sense, but wanted to try it\n",
    "#### In linear reg - typically y values come from normal distribution - means related to predictor\n",
    "#### In GLSAR - typically y values come from exponential family distribution - means related to some function of the mean related to pred\n",
    "#### Main difference is the method the coefficients (betas) are found\n",
    "#### Linear use Least Squares or max likelihood in normal distribution\n",
    "#### In generalized models, have to only use maximum likelihood"
   ]
  },
  {
   "cell_type": "code",
   "execution_count": 20,
   "metadata": {},
   "outputs": [
    {
     "name": "stdout",
     "output_type": "stream",
     "text": [
      "AR coefficients: [0. 0.]\n",
      "AR coefficients: [0.00779657 0.01681878]\n",
      "AR coefficients: [0.00797418 0.01742036]\n",
      "AR coefficients: [0.00797655 0.0174426 ]\n",
      "AR coefficients: [0.00797648 0.01744345]\n",
      "AR coefficients: [0.00797647 0.01744349]\n",
      "                                GLSAR Regression Results                               \n",
      "=======================================================================================\n",
      "Dep. Variable:               bamscore   R-squared (uncentered):                   0.955\n",
      "Model:                          GLSAR   Adj. R-squared (uncentered):              0.955\n",
      "Method:                 Least Squares   F-statistic:                              1296.\n",
      "Date:                Wed, 27 Apr 2022   Prob (F-statistic):                        0.00\n",
      "Time:                        13:24:47   Log-Likelihood:                          560.08\n",
      "No. Observations:                 739   AIC:                                     -1096.\n",
      "Df Residuals:                     727   BIC:                                     -1041.\n",
      "Df Model:                          12                                                  \n",
      "Covariance Type:            nonrobust                                                  \n",
      "==============================================================================================\n",
      "                                 coef    std err          t      P>|t|      [0.025      0.975]\n",
      "----------------------------------------------------------------------------------------------\n",
      "approach_vertical              5.4270      0.486     11.168      0.000       4.473       6.381\n",
      "vertical_jump                  4.1267      0.528      7.813      0.000       3.090       5.164\n",
      "three_quarter_court_sprint     2.5040      6.762      0.370      0.711     -10.771      15.779\n",
      "four_way_agility             -17.7259      1.840     -9.631      0.000     -21.339     -14.113\n",
      "reaction_shuttle             -52.1421      5.093    -10.237      0.000     -62.141     -42.143\n",
      "wingspan                      -0.5815      0.723     -0.804      0.422      -2.001       0.838\n",
      "reach                          1.0247      0.811      1.264      0.207      -0.567       2.616\n",
      "height                         1.6737      0.822      2.036      0.042       0.060       3.288\n",
      "weight                         0.0769      0.066      1.164      0.245      -0.053       0.206\n",
      "body_comp                      0.4737      0.200      2.363      0.018       0.080       0.867\n",
      "hand_length                   -2.1260      3.068     -0.693      0.489      -8.150       3.898\n",
      "hand_width                     5.2285      2.367      2.209      0.027       0.582       9.875\n",
      "==============================================================================\n",
      "Omnibus:                       45.433   Durbin-Watson:                   1.993\n",
      "Prob(Omnibus):                  0.000   Jarque-Bera (JB):              169.727\n",
      "Skew:                           0.078   Prob(JB):                     1.39e-37\n",
      "Kurtosis:                       5.343   Cond. No.                     1.64e+03\n",
      "==============================================================================\n",
      "\n",
      "Warnings:\n",
      "[1] Standard Errors assume that the covariance matrix of the errors is correctly specified.\n",
      "[2] The condition number is large, 1.64e+03. This might indicate that there are\n",
      "strong multicollinearity or other numerical problems.\n"
     ]
    }
   ],
   "source": [
    "model = sm.GLSAR(y_train, X_train, rho=2)\n",
    "for i in range(6):\n",
    "    results = model.fit()\n",
    "    print(\"AR coefficients: {0}\".format(model.rho))\n",
    "    rho, sigma = sm.regression.yule_walker(results.resid, order=model.order)\n",
    "    model = sm.GLSAR(y_train, X_train, rho)\n",
    "\n",
    "lm = model.fit()\n",
    "print(lm.summary())\n",
    "# (int) rho is order of autoregressive covariance\n",
    "# covariance - extent to which 2 variables increase or decrease in tandem to each other\n",
    "### coeff in linear reg are linear"
   ]
  },
  {
   "cell_type": "code",
   "execution_count": 21,
   "metadata": {},
   "outputs": [
    {
     "data": {
      "text/plain": [
       "0.5816926699396184"
      ]
     },
     "execution_count": 21,
     "metadata": {},
     "output_type": "execute_result"
    }
   ],
   "source": [
    "ypred = lm.predict(X_test)\n",
    "r2_score(y_test, ypred)"
   ]
  },
  {
   "cell_type": "code",
   "execution_count": 22,
   "metadata": {},
   "outputs": [],
   "source": [
    "#https://www.statsmodels.org/dev/generated/statsmodels.regression.linear_model.GLSAR.html"
   ]
  },
  {
   "cell_type": "markdown",
   "metadata": {},
   "source": [
    "### Insight:\n",
    "#### GLSAR Model is very over fitted with r2 score of .9555\n",
    "#### r2 on test data and overfitted\n",
    "#### Tried less iterations on loop and higher rho and neither made a difference after 1 iteration"
   ]
  },
  {
   "cell_type": "markdown",
   "metadata": {},
   "source": [
    "## Going to move and try random forest model since GLSAR model is very overfitted"
   ]
  },
  {
   "cell_type": "markdown",
   "metadata": {},
   "source": [
    "## 6) Random Forest"
   ]
  },
  {
   "cell_type": "code",
   "execution_count": 23,
   "metadata": {},
   "outputs": [],
   "source": [
    "# Random Forest\n",
    "## Going to try random forrest model because GLSAR model and had bad overfitting or the same results as OLS model\n",
    "## Random forrest corrects for high variance/overfitting by using many decision trees\n",
    "\n",
    "#Steps:\n",
    "# -create bootstrapped dataset with subset of variables\n",
    "# -fit decision tree\n",
    "# -repeat and tally predictions"
   ]
  },
  {
   "cell_type": "code",
   "execution_count": 24,
   "metadata": {},
   "outputs": [
    {
     "data": {
      "text/plain": [
       "0.6005390346228129"
      ]
     },
     "execution_count": 24,
     "metadata": {},
     "output_type": "execute_result"
    }
   ],
   "source": [
    "# create regressor object\n",
    "regressor = RandomForestRegressor(n_estimators = 100, random_state = 0)\n",
    "cols = [\"vertical_jump\", \"approach_vertical\", \"four_way_agility\", \"reaction_shuttle\", \"three_quarter_court_sprint\"]\n",
    "\n",
    "# fit the regressor with x and y data\n",
    "rf = regressor.fit(X_train[cols], y_train)\n",
    "rf.score(X_test[cols], y_test)\n",
    "# score if fit and test on full data frame"
   ]
  },
  {
   "cell_type": "code",
   "execution_count": 25,
   "metadata": {},
   "outputs": [
    {
     "data": {
      "text/plain": [
       "0.19881330115476226"
      ]
     },
     "execution_count": 25,
     "metadata": {},
     "output_type": "execute_result"
    }
   ],
   "source": [
    "# Messed around to see if anthros gave us a good r2 score and it did not\n",
    "regressor = RandomForestRegressor(n_estimators = 100, random_state = 0)\n",
    "cols = [\"wingspan\", \"reach\", \"height\", \"weight\", \"body_comp\", \"hand_length\", \"hand_width\"]\n",
    "# fit the regressor with x and y data\n",
    "rf = regressor.fit(X_train[cols], y_train)\n",
    "rf.score(X_test[cols], y_test)"
   ]
  },
  {
   "cell_type": "markdown",
   "metadata": {},
   "source": [
    "### 7) MLP Regressor = Multilayer perceptron\n",
    "#### Wanted to try a new random model and see if I could get a better r2 score.\n",
    "#### I wanted to try this because I had never dealt with hidden layers with different weights before\n",
    "#### I put in one input-> it trains the weights within the multiple layers in the hidden data, goes through hidden data many times as it learns and spits out -> output - very complicated on backend"
   ]
  },
  {
   "cell_type": "code",
   "execution_count": 26,
   "metadata": {},
   "outputs": [
    {
     "data": {
      "text/plain": [
       "-0.0022790688232969813"
      ]
     },
     "execution_count": 26,
     "metadata": {},
     "output_type": "execute_result"
    }
   ],
   "source": [
    "regr = MLPRegressor(random_state=1, max_iter=500).fit(X_train, y_train)\n",
    "regr.score(X_test, y_test)"
   ]
  },
  {
   "cell_type": "markdown",
   "metadata": {},
   "source": [
    "##### Add Learning Rate Init"
   ]
  },
  {
   "cell_type": "code",
   "execution_count": 27,
   "metadata": {},
   "outputs": [
    {
     "data": {
      "text/plain": [
       "-0.0022790688232969813"
      ]
     },
     "execution_count": 27,
     "metadata": {},
     "output_type": "execute_result"
    }
   ],
   "source": [
    "# Mess around with hyper params\n",
    "# add learning rate init - default =.001\n",
    "regr = MLPRegressor(random_state=1, max_iter=500, learning_rate_init=.001).fit(X_train, y_train)\n",
    "regr.score(X_test, y_test)"
   ]
  },
  {
   "cell_type": "code",
   "execution_count": 28,
   "metadata": {},
   "outputs": [
    {
     "data": {
      "text/plain": [
       "0.39752644122382885"
      ]
     },
     "execution_count": 28,
     "metadata": {},
     "output_type": "execute_result"
    }
   ],
   "source": [
    "# increase learning rate init to.005\n",
    "regr = MLPRegressor(random_state=1, max_iter=500, learning_rate_init=.005).fit(X_train, y_train)\n",
    "regr.score(X_test, y_test)"
   ]
  },
  {
   "cell_type": "code",
   "execution_count": 29,
   "metadata": {},
   "outputs": [
    {
     "data": {
      "text/plain": [
       "0.4381936060903642"
      ]
     },
     "execution_count": 29,
     "metadata": {},
     "output_type": "execute_result"
    }
   ],
   "source": [
    "# increase learning rate init to.009 was the best after trying range .001-.01\n",
    "regr = MLPRegressor(random_state=1, max_iter=500, learning_rate_init=.009).fit(X_train, y_train)\n",
    "regr.score(X_test, y_test)"
   ]
  },
  {
   "cell_type": "markdown",
   "metadata": {},
   "source": [
    "##### Add Solver"
   ]
  },
  {
   "cell_type": "code",
   "execution_count": 30,
   "metadata": {},
   "outputs": [
    {
     "data": {
      "text/plain": [
       "0.4381936060903642"
      ]
     },
     "execution_count": 30,
     "metadata": {},
     "output_type": "execute_result"
    }
   ],
   "source": [
    "# Noticed \"solver\", default is adam and used for big data sets, so change solver for a smaller data set we have\n",
    "regr = MLPRegressor(random_state=1, max_iter=500, learning_rate_init=.009, solver='adam').fit(X_train, y_train)\n",
    "regr.score(X_test, y_test)"
   ]
  },
  {
   "cell_type": "code",
   "execution_count": 31,
   "metadata": {},
   "outputs": [
    {
     "data": {
      "text/plain": [
       "0.5506230429046819"
      ]
     },
     "execution_count": 31,
     "metadata": {},
     "output_type": "execute_result"
    }
   ],
   "source": [
    "regr = MLPRegressor(random_state=1, max_iter=500, learning_rate_init=.009, solver='lbfgs').fit(X_train, y_train)\n",
    "regr.score(X_test, y_test)"
   ]
  },
  {
   "cell_type": "markdown",
   "metadata": {},
   "source": [
    "##### Add maximum fun"
   ]
  },
  {
   "cell_type": "code",
   "execution_count": 32,
   "metadata": {},
   "outputs": [
    {
     "data": {
      "text/plain": [
       "0.5506230429046819"
      ]
     },
     "execution_count": 32,
     "metadata": {},
     "output_type": "execute_result"
    }
   ],
   "source": [
    "##### Since we used solver = lbfgs, we can use maximum fun calls.\n",
    "##### Default = 15000 calls\n",
    "regr = MLPRegressor(random_state=1, max_iter=500, learning_rate_init=.009, solver='lbfgs', max_fun=15000).fit(X_train, y_train)\n",
    "regr.score(X_test, y_test)"
   ]
  },
  {
   "cell_type": "code",
   "execution_count": 33,
   "metadata": {},
   "outputs": [],
   "source": [
    "##### Increasing max_fun = no change\n",
    "##### Decreasing max_fun <150 decreased r2"
   ]
  },
  {
   "cell_type": "markdown",
   "metadata": {},
   "source": [
    "## 8) Summary of 4 Models\n",
    "#### This model gave us this, this ....\n",
    "#### Best model\n",
    "##### 1) OLS = .612\n",
    "##### 2) Random Forest = .6"
   ]
  },
  {
   "cell_type": "code",
   "execution_count": 34,
   "metadata": {},
   "outputs": [
    {
     "name": "stdout",
     "output_type": "stream",
     "text": [
      "                            OLS Regression Results                            \n",
      "==============================================================================\n",
      "Dep. Variable:               bamscore   R-squared:                       0.611\n",
      "Model:                            OLS   Adj. R-squared:                  0.608\n",
      "Method:                 Least Squares   F-statistic:                     230.8\n",
      "Date:                Wed, 27 Apr 2022   Prob (F-statistic):          5.49e-148\n",
      "Time:                        13:24:49   Log-Likelihood:                 538.18\n",
      "No. Observations:                 741   AIC:                            -1064.\n",
      "Df Residuals:                     735   BIC:                            -1037.\n",
      "Df Model:                           5                                         \n",
      "Covariance Type:            nonrobust                                         \n",
      "==============================================================================================\n",
      "                                 coef    std err          t      P>|t|      [0.025      0.975]\n",
      "----------------------------------------------------------------------------------------------\n",
      "Intercept                      0.5175      0.054      9.585      0.000       0.411       0.623\n",
      "approach_vertical              5.3676      0.484     11.090      0.000       4.417       6.318\n",
      "vertical_jump                  4.6855      0.532      8.801      0.000       3.640       5.731\n",
      "four_way_agility             -15.1359      1.778     -8.513      0.000     -18.627     -11.645\n",
      "reaction_shuttle             -50.3648      5.054     -9.964      0.000     -60.288     -40.442\n",
      "three_quarter_court_sprint    19.5406      6.144      3.181      0.002       7.479      31.602\n",
      "==============================================================================\n",
      "Omnibus:                       37.151   Durbin-Watson:                   1.977\n",
      "Prob(Omnibus):                  0.000   Jarque-Bera (JB):              118.152\n",
      "Skew:                           0.055   Prob(JB):                     2.21e-26\n",
      "Kurtosis:                       4.953   Cond. No.                     1.55e+03\n",
      "==============================================================================\n",
      "\n",
      "Warnings:\n",
      "[1] Standard Errors assume that the covariance matrix of the errors is correctly specified.\n",
      "[2] The condition number is large, 1.55e+03. This might indicate that there are\n",
      "strong multicollinearity or other numerical problems.\n"
     ]
    }
   ],
   "source": [
    "formula = \"bamscore ~ approach_vertical + vertical_jump + four_way_agility + reaction_shuttle + three_quarter_court_sprint\"\n",
    "lm = smf.ols(formula = formula, data = df_train).fit()\n",
    "print(lm.summary())"
   ]
  },
  {
   "cell_type": "markdown",
   "metadata": {},
   "source": [
    "# Based on our best model, if someone wants to best improve their bam score they should focus on improving:\n",
    "## 1) reaction shuttle\n",
    "## 2) 3/4 court sprint\n",
    "## 3) four way agility"
   ]
  },
  {
   "cell_type": "markdown",
   "metadata": {},
   "source": [
    "### Also wanted to try and predict bamscore using our factors\n",
    "### Randomly select 5 people from our training data"
   ]
  },
  {
   "cell_type": "code",
   "execution_count": 35,
   "metadata": {},
   "outputs": [
    {
     "name": "stdout",
     "output_type": "stream",
     "text": [
      "[436, 1, 526, 261, 654]\n"
     ]
    }
   ],
   "source": [
    "idx = random.choices(range(X_train.shape[0]), k=5)\n",
    "print(idx)"
   ]
  },
  {
   "cell_type": "markdown",
   "metadata": {},
   "source": [
    "### predict bamscore (normalized score)"
   ]
  },
  {
   "cell_type": "code",
   "execution_count": 36,
   "metadata": {},
   "outputs": [
    {
     "name": "stdout",
     "output_type": "stream",
     "text": [
      "114    0.386732\n",
      "635    0.571967\n",
      "839    0.439271\n",
      "475    0.404971\n",
      "868    0.422371\n",
      "dtype: float64\n"
     ]
    }
   ],
   "source": [
    "y_pred = lm.predict(X_train.iloc[idx,:])\n",
    "print(y_pred)"
   ]
  },
  {
   "cell_type": "markdown",
   "metadata": {},
   "source": [
    "### Unnormalize the predicted bamscore"
   ]
  },
  {
   "cell_type": "code",
   "execution_count": 37,
   "metadata": {},
   "outputs": [],
   "source": [
    "X_in = X_train_ids_reg.iloc[idx,:]"
   ]
  },
  {
   "cell_type": "code",
   "execution_count": 38,
   "metadata": {},
   "outputs": [
    {
     "data": {
      "text/plain": [
       "114    1814.016336\n",
       "635    1936.641852\n",
       "839    1848.797340\n",
       "475    1826.090597\n",
       "868    1837.609856\n",
       "dtype: float64"
      ]
     },
     "execution_count": 38,
     "metadata": {},
     "output_type": "execute_result"
    }
   ],
   "source": [
    "y_pred_reg = y_pred*(y_train_ids_reg.max()-y_train_ids_reg.min()) + y_train_ids_reg.min()\n",
    "y_pred_reg"
   ]
  },
  {
   "cell_type": "markdown",
   "metadata": {},
   "source": [
    "### Show table of test scores for our 5 players, bamscore above ^"
   ]
  },
  {
   "cell_type": "code",
   "execution_count": 39,
   "metadata": {},
   "outputs": [
    {
     "data": {
      "text/html": [
       "<div>\n",
       "<style scoped>\n",
       "    .dataframe tbody tr th:only-of-type {\n",
       "        vertical-align: middle;\n",
       "    }\n",
       "\n",
       "    .dataframe tbody tr th {\n",
       "        vertical-align: top;\n",
       "    }\n",
       "\n",
       "    .dataframe thead th {\n",
       "        text-align: right;\n",
       "    }\n",
       "</style>\n",
       "<table border=\"1\" class=\"dataframe\">\n",
       "  <thead>\n",
       "    <tr style=\"text-align: right;\">\n",
       "      <th></th>\n",
       "      <th>approach_vertical</th>\n",
       "      <th>vertical_jump</th>\n",
       "      <th>three_quarter_court_sprint</th>\n",
       "      <th>four_way_agility</th>\n",
       "      <th>reaction_shuttle</th>\n",
       "      <th>wingspan</th>\n",
       "      <th>reach</th>\n",
       "      <th>height</th>\n",
       "      <th>weight</th>\n",
       "      <th>body_comp</th>\n",
       "      <th>hand_length</th>\n",
       "      <th>hand_width</th>\n",
       "    </tr>\n",
       "  </thead>\n",
       "  <tbody>\n",
       "    <tr>\n",
       "      <th>114</th>\n",
       "      <td>29.000000</td>\n",
       "      <td>24.000000</td>\n",
       "      <td>3.464</td>\n",
       "      <td>12.104</td>\n",
       "      <td>3.631</td>\n",
       "      <td>74.75</td>\n",
       "      <td>93.5</td>\n",
       "      <td>71.50</td>\n",
       "      <td>179.2</td>\n",
       "      <td>19.1</td>\n",
       "      <td>8.0</td>\n",
       "      <td>9.00</td>\n",
       "    </tr>\n",
       "    <tr>\n",
       "      <th>635</th>\n",
       "      <td>31.829615</td>\n",
       "      <td>25.860157</td>\n",
       "      <td>3.579</td>\n",
       "      <td>11.876</td>\n",
       "      <td>3.371</td>\n",
       "      <td>77.00</td>\n",
       "      <td>102.0</td>\n",
       "      <td>77.50</td>\n",
       "      <td>165.6</td>\n",
       "      <td>12.1</td>\n",
       "      <td>7.5</td>\n",
       "      <td>8.75</td>\n",
       "    </tr>\n",
       "    <tr>\n",
       "      <th>839</th>\n",
       "      <td>29.500000</td>\n",
       "      <td>24.000000</td>\n",
       "      <td>3.620</td>\n",
       "      <td>11.751</td>\n",
       "      <td>3.616</td>\n",
       "      <td>75.00</td>\n",
       "      <td>98.5</td>\n",
       "      <td>74.75</td>\n",
       "      <td>181.0</td>\n",
       "      <td>16.1</td>\n",
       "      <td>8.0</td>\n",
       "      <td>8.50</td>\n",
       "    </tr>\n",
       "    <tr>\n",
       "      <th>475</th>\n",
       "      <td>30.000000</td>\n",
       "      <td>23.000000</td>\n",
       "      <td>3.664</td>\n",
       "      <td>12.486</td>\n",
       "      <td>3.471</td>\n",
       "      <td>75.00</td>\n",
       "      <td>95.5</td>\n",
       "      <td>73.50</td>\n",
       "      <td>146.2</td>\n",
       "      <td>6.9</td>\n",
       "      <td>8.5</td>\n",
       "      <td>8.50</td>\n",
       "    </tr>\n",
       "    <tr>\n",
       "      <th>868</th>\n",
       "      <td>30.500000</td>\n",
       "      <td>23.500000</td>\n",
       "      <td>3.403</td>\n",
       "      <td>11.839</td>\n",
       "      <td>3.607</td>\n",
       "      <td>75.50</td>\n",
       "      <td>95.0</td>\n",
       "      <td>71.75</td>\n",
       "      <td>157.6</td>\n",
       "      <td>13.3</td>\n",
       "      <td>8.5</td>\n",
       "      <td>8.50</td>\n",
       "    </tr>\n",
       "  </tbody>\n",
       "</table>\n",
       "</div>"
      ],
      "text/plain": [
       "     approach_vertical  vertical_jump  three_quarter_court_sprint  \\\n",
       "114          29.000000      24.000000                       3.464   \n",
       "635          31.829615      25.860157                       3.579   \n",
       "839          29.500000      24.000000                       3.620   \n",
       "475          30.000000      23.000000                       3.664   \n",
       "868          30.500000      23.500000                       3.403   \n",
       "\n",
       "     four_way_agility  reaction_shuttle  wingspan  reach  height  weight  \\\n",
       "114            12.104             3.631     74.75   93.5   71.50   179.2   \n",
       "635            11.876             3.371     77.00  102.0   77.50   165.6   \n",
       "839            11.751             3.616     75.00   98.5   74.75   181.0   \n",
       "475            12.486             3.471     75.00   95.5   73.50   146.2   \n",
       "868            11.839             3.607     75.50   95.0   71.75   157.6   \n",
       "\n",
       "     body_comp  hand_length  hand_width  \n",
       "114       19.1          8.0        9.00  \n",
       "635       12.1          7.5        8.75  \n",
       "839       16.1          8.0        8.50  \n",
       "475        6.9          8.5        8.50  \n",
       "868       13.3          8.5        8.50  "
      ]
     },
     "execution_count": 39,
     "metadata": {},
     "output_type": "execute_result"
    }
   ],
   "source": [
    "X_in"
   ]
  },
  {
   "cell_type": "markdown",
   "metadata": {},
   "source": [
    "# We can now say improving at these 5 important factors will increase bamscore.\n",
    "# In the future I really wan't to be able to say \"increasing you speed by .1 second in a test can increase bam score by a certain numerical amount\""
   ]
  }
 ],
 "metadata": {
  "kernelspec": {
   "display_name": "Python 3",
   "language": "python",
   "name": "python3"
  },
  "language_info": {
   "codemirror_mode": {
    "name": "ipython",
    "version": 3
   },
   "file_extension": ".py",
   "mimetype": "text/x-python",
   "name": "python",
   "nbconvert_exporter": "python",
   "pygments_lexer": "ipython3",
   "version": "3.6.9"
  }
 },
 "nbformat": 4,
 "nbformat_minor": 4
}
